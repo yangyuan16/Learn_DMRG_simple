{
 "cells": [
  {
   "cell_type": "code",
   "execution_count": 1,
   "metadata": {},
   "outputs": [],
   "source": [
    "# learn how to enlarge the block in dmrg\n",
    "# from one site enlarge to two site, 系统从一个各点扩充到两个各点。\n",
    "import numpy as np\n",
    "from scipy.sparse import kron, identity\n",
    "from collections import namedtuple\n",
    "def H2(Sz1, Sp1, Sz2, Sp2):  # two-site part of H\n",
    "    \"\"\"Given the operators S^z and S^+ on two sites in different Hilbert spaces\n",
    "    (e.g. two blocks), returns a Kronecker product representing the\n",
    "    corresponding two-site term in the Hamiltonian that joins the two sites.\n",
    "    \"\"\"\n",
    "    J = Jz = 1.\n",
    "    return (\n",
    "        (J / 2) * (kron(Sp1, Sp2.conjugate().transpose()) + kron(Sp1.conjugate().transpose(), Sp2)) +\n",
    "        Jz * kron(Sz1, Sz2)\n",
    "    )\n",
    "if __name__ == \"__main__\":\n",
    "    # Model-specific code for the Heisenberg XXZ chain\n",
    "    model_d = 2  # single-site basis size\n",
    "    Sz1 = np.array([[0.5, 0], [0, -0.5]], dtype='d')  # single-site S^z\n",
    "    Sp1 = np.array([[0, 1], [0, 0]], dtype='d')  # single-site S^+\n",
    "    H1 = np.array([[0, 0], [0, 0]], dtype='d')  # single-site portion of H is zero, 磁场项 或者势能项\n",
    "    Block = namedtuple(\"Block\", [\"length\", \"basis_size\", \"operator_dict\"])\n",
    "    EnlargedBlock = namedtuple(\"EnlargedBlock\", [\"length\", \"basis_size\", \"operator_dict\"])\n",
    "    #初始化一个block\n",
    "    initial_block = Block(length=1, \n",
    "                        basis_size=model_d, \n",
    "                        operator_dict={\n",
    "                        \"H\": H1,\n",
    "                        \"conn_Sz\": Sz1,\n",
    "                        \"conn_Sp\": Sp1,})\n",
    "    block = initial_block\n",
    "    # enlarges the provided Block by a single site, return an EnlargedBlock\n",
    "    mblock = block.basis_size\n",
    "    o = block.operator_dict\n",
    "\n",
    "    H = kron(o[\"H\"], identity(model_d)) + kron(identity(mblock),H1) + \\\n",
    "        H2(o[\"conn_Sz\"], o[\"conn_Sp\"], Sz1, Sp1) # hamiltonian of block\n",
    "    conn_Sz = kron(identity(mblock), Sz1) # edge site is enlarged\n",
    "    conn_Sp = kron(identity(mblock), Sp1) # edge site is enlarged\n",
    "\n",
    "    enlarged_operator_dict = {\"H\": H, \"conn_Sz\": conn_Sz, \"conn_Sp\": conn_Sp}\n",
    "    EnlargedBlock(length=(block.length + 1),\n",
    "                basis_size=(block.basis_size * model_d),\n",
    "                operator_dict=enlarged_operator_dict) # 存入 EnlareBlock 中。"
   ]
  },
  {
   "cell_type": "markdown",
   "metadata": {},
   "source": [
    "* 得到 enlarged block hamiltonian H 的时候， H 中包含三项：\n",
    "（1） kron(o[\"H\"], identity(model_d)) ： 将原 block hamiltonian H 的希尔伯特空间扩大一个格点\n",
    "（2） kron(identity(mblock),H1)： 将新格点的势能项添加进来\n",
    "（3） H2(o[\"conn_Sz\"], o[\"conn_Sp\"], Sz1, Sp1)： 将原 block 边缘格点与新加入的格点之间的相互作用添加进来"
   ]
  },
  {
   "cell_type": "code",
   "execution_count": 2,
   "metadata": {},
   "outputs": [
    {
     "name": "stdout",
     "output_type": "stream",
     "text": [
      "block hamiltonian H:\n",
      "   (0, 0)\t0.25\n",
      "  (1, 1)\t-0.25\n",
      "  (1, 2)\t0.5\n",
      "  (2, 1)\t0.5\n",
      "  (2, 2)\t-0.25\n",
      "  (3, 3)\t0.25\n",
      "edge site operator conn_Sz:\n",
      "   (0, 0)\t0.5\n",
      "  (0, 1)\t0.0\n",
      "  (1, 0)\t0.0\n",
      "  (1, 1)\t-0.5\n",
      "  (2, 2)\t0.5\n",
      "  (2, 3)\t0.0\n",
      "  (3, 2)\t0.0\n",
      "  (3, 3)\t-0.5\n",
      "edge site operator conn_Sp:\n",
      "   (0, 1)\t1.0\n",
      "  (2, 3)\t1.0\n"
     ]
    }
   ],
   "source": [
    "print(\"block hamiltonian H:\\n\", H)\n",
    "print(\"edge site operator conn_Sz:\\n\", conn_Sz)\n",
    "print(\"edge site operator conn_Sp:\\n\", conn_Sp)"
   ]
  }
 ],
 "metadata": {
  "kernelspec": {
   "display_name": "Python 3",
   "language": "python",
   "name": "python3"
  },
  "language_info": {
   "codemirror_mode": {
    "name": "ipython",
    "version": 3
   },
   "file_extension": ".py",
   "mimetype": "text/x-python",
   "name": "python",
   "nbconvert_exporter": "python",
   "pygments_lexer": "ipython3",
   "version": "3.11.4"
  },
  "orig_nbformat": 4
 },
 "nbformat": 4,
 "nbformat_minor": 2
}

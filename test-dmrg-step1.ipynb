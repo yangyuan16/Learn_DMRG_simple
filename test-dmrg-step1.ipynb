{
 "cells": [
  {
   "cell_type": "code",
   "execution_count": null,
   "metadata": {},
   "outputs": [],
   "source": [
    "# 从系统block 一个格点扩展成为两个格点\n",
    "# 系统块 和环境块 构造超块\n",
    "# 对超块进行对角化\n",
    "# 得到约化密度矩阵 \n",
    "# 得到 transformation_matrix\n",
    "# 对系统块儿哈密顿量进行重整化"
   ]
  },
  {
   "cell_type": "code",
   "execution_count": 1,
   "metadata": {},
   "outputs": [
    {
     "name": "stdout",
     "output_type": "stream",
     "text": [
      "block hamiltonian H:\n",
      "   (0, 0)\t0.25\n",
      "  (1, 1)\t-0.25\n",
      "  (1, 2)\t0.5\n",
      "  (2, 1)\t0.5\n",
      "  (2, 2)\t-0.25\n",
      "  (3, 3)\t0.25\n",
      "edge site operator conn_Sz:\n",
      "   (0, 0)\t0.5\n",
      "  (0, 1)\t0.0\n",
      "  (1, 0)\t0.0\n",
      "  (1, 1)\t-0.5\n",
      "  (2, 2)\t0.5\n",
      "  (2, 3)\t0.0\n",
      "  (3, 2)\t0.0\n",
      "  (3, 3)\t-0.5\n",
      "edge site operator conn_Sp:\n",
      "   (0, 1)\t1.0\n",
      "  (2, 3)\t1.0\n"
     ]
    }
   ],
   "source": [
    "# from one site enlarge to two site, 系统从一个各点扩充到两个各点。\n",
    "import numpy as np\n",
    "from scipy.sparse import kron, identity\n",
    "from collections import namedtuple\n",
    "def H2(Sz1, Sp1, Sz2, Sp2):  # two-site part of H\n",
    "    \"\"\"Given the operators S^z and S^+ on two sites in different Hilbert spaces\n",
    "    (e.g. two blocks), returns a Kronecker product representing the\n",
    "    corresponding two-site term in the Hamiltonian that joins the two sites.\n",
    "    \"\"\"\n",
    "    J = Jz = 1.\n",
    "    return (\n",
    "        (J / 2) * (kron(Sp1, Sp2.conjugate().transpose()) + kron(Sp1.conjugate().transpose(), Sp2)) +\n",
    "        Jz * kron(Sz1, Sz2)\n",
    "    )\n",
    "if __name__ == \"__main__\":\n",
    "    # Model-specific code for the Heisenberg XXZ chain\n",
    "    model_d = 2  # single-site basis size\n",
    "    Sz1 = np.array([[0.5, 0], [0, -0.5]], dtype='d')  # single-site S^z\n",
    "    Sp1 = np.array([[0, 1], [0, 0]], dtype='d')  # single-site S^+\n",
    "    H1 = np.array([[0, 0], [0, 0]], dtype='d')  # single-site portion of H is zero, 磁场项 或者势能项\n",
    "    Block = namedtuple(\"Block\", [\"length\", \"basis_size\", \"operator_dict\"])\n",
    "    EnlargedBlock = namedtuple(\"EnlargedBlock\", [\"length\", \"basis_size\", \"operator_dict\"])\n",
    "    #初始化一个block\n",
    "    initial_block = Block(length=1, \n",
    "                        basis_size=model_d, \n",
    "                        operator_dict={\n",
    "                        \"H\": H1,\n",
    "                        \"conn_Sz\": Sz1,\n",
    "                        \"conn_Sp\": Sp1,})\n",
    "    block = initial_block\n",
    "    # enlarges the provided Block by a single site, return an EnlargedBlock\n",
    "    mblock = block.basis_size\n",
    "    o = block.operator_dict\n",
    "\n",
    "    H = kron(o[\"H\"], identity(model_d)) + kron(identity(mblock),H1) + \\\n",
    "        H2(o[\"conn_Sz\"], o[\"conn_Sp\"], Sz1, Sp1) # hamiltonian of block\n",
    "    conn_Sz = kron(identity(mblock), Sz1) # edge site is enlarged\n",
    "    conn_Sp = kron(identity(mblock), Sp1) # edge site is enlarged\n",
    "\n",
    "    enlarged_operator_dict = {\"H\": H, \"conn_Sz\": conn_Sz, \"conn_Sp\": conn_Sp}\n",
    "    EnlargedBlock(length=(block.length + 1),\n",
    "                basis_size=(block.basis_size * model_d),\n",
    "                operator_dict=enlarged_operator_dict) # 存入 EnlareBlock 中。\n",
    "    print(\"block hamiltonian H:\\n\", H)\n",
    "    print(\"edge site operator conn_Sz:\\n\", conn_Sz)\n",
    "    print(\"edge site operator conn_Sp:\\n\", conn_Sp)"
   ]
  },
  {
   "cell_type": "code",
   "execution_count": 19,
   "metadata": {},
   "outputs": [
    {
     "name": "stdout",
     "output_type": "stream",
     "text": [
      "superblock_hamiltonian:   (0, 0)\t0.75\n",
      "  (1, 1)\t-0.25\n",
      "  (1, 2)\t0.5\n",
      "  (1, 4)\t0.5\n",
      "  (2, 1)\t0.5\n",
      "  (2, 2)\t0.25\n",
      "  (3, 3)\t0.25\n",
      "  (3, 6)\t0.5\n",
      "  (4, 1)\t0.5\n",
      "  (4, 4)\t-0.25\n",
      "  (4, 8)\t0.5\n",
      "  (5, 5)\t-0.25\n",
      "  (5, 6)\t0.5\n",
      "  (5, 9)\t0.5\n",
      "  (6, 3)\t0.5\n",
      "  (6, 5)\t0.5\n",
      "  (6, 6)\t-0.75\n",
      "  (6, 10)\t0.5\n",
      "  (7, 7)\t0.25\n",
      "  (7, 11)\t0.5\n",
      "  (8, 4)\t0.5\n",
      "  (8, 8)\t0.25\n",
      "  (9, 5)\t0.5\n",
      "  (9, 9)\t-0.75\n",
      "  (9, 10)\t0.5\n",
      "  (9, 12)\t0.5\n",
      "  (10, 6)\t0.5\n",
      "  (10, 9)\t0.5\n",
      "  (10, 10)\t-0.25\n",
      "  (11, 7)\t0.5\n",
      "  (11, 11)\t-0.25\n",
      "  (11, 14)\t0.5\n",
      "  (12, 9)\t0.5\n",
      "  (12, 12)\t0.25\n",
      "  (13, 13)\t0.25\n",
      "  (13, 14)\t0.5\n",
      "  (14, 11)\t0.5\n",
      "  (14, 13)\t0.5\n",
      "  (14, 14)\t-0.25\n",
      "  (15, 15)\t0.75\n"
     ]
    }
   ],
   "source": [
    "# 构造超块儿哈密顿量\n",
    "sys_block_2site = EnlargedBlock(length=(block.length + 1), basis_size=(block.basis_size * model_d), \n",
    "                                operator_dict=enlarged_operator_dict) # 存入 EnlareBlock 中。\n",
    "env_block_2site = sys_block_2site # 将系统块变为环境块\n",
    "# 构造超块哈密顿\n",
    "m_sys_block = sys_block_2site.basis_size\n",
    "m_env_block = env_block_2site.basis_size\n",
    "sys_block_op = sys_block_2site.operator_dict\n",
    "env_block_op = env_block_2site.operator_dict\n",
    "#\n",
    "superblock_Hblock = kron(sys_block_op[\"H\"], identity(m_env_block)) + \\\n",
    "                    kron(identity(m_sys_block), env_block_op[\"H\"]) # 扩大希尔伯特空间\n",
    "superblock_HConn = H2(sys_block_op[\"conn_Sz\"], sys_block_op[\"conn_Sp\"],\n",
    "                    env_block_op[\"conn_Sz\"], env_block_op[\"conn_Sp\"]) # 系统块儿和环境块儿两个边缘格点之间的相互作用\n",
    "superblock_hamiltonian = superblock_Hblock + superblock_HConn \n",
    "\n",
    "print(\"superblock_hamiltonian:\", superblock_hamiltonian)"
   ]
  },
  {
   "cell_type": "code",
   "execution_count": null,
   "metadata": {},
   "outputs": [],
   "source": [
    "# 求得超块儿哈密顿量的基态\n",
    "# Call ARPACK to find the superblock ground state\n",
    "from scipy.sparse.linalg import eigsh\n",
    "(energy,), psi0 = eigsh(superblock_hamiltonian, k=1, which = \"SA\")\n",
    "print(\"energy:\\n\", energy)\n",
    "print(\"psi0:\\n\", psi0)\n",
    "print(\"length of psi0:\\n\", len(psi0))"
   ]
  },
  {
   "cell_type": "code",
   "execution_count": 26,
   "metadata": {},
   "outputs": [
    {
     "name": "stdout",
     "output_type": "stream",
     "text": [
      "psi0:\n",
      " [[ 1.58269974e-17 -1.60395414e-17  6.90346218e-17  1.49429245e-01]\n",
      " [-2.99444996e-17  4.08248290e-01 -5.57677536e-01 -5.29622142e-17]\n",
      " [ 1.56625960e-17 -5.57677536e-01  4.08248290e-01 -6.55959717e-17]\n",
      " [ 1.49429245e-01 -1.27316366e-16 -6.32092827e-18  2.90022204e-17]]\n",
      "rho:\n",
      " [[ 2.23290994e-02 -5.29612768e-17  2.73262017e-17  6.69879618e-18]\n",
      " [-5.29612768e-17  4.77670901e-01 -4.55341801e-01 -5.29262331e-17]\n",
      " [ 2.73262017e-17 -4.55341801e-01  4.77670901e-01  7.07614191e-17]\n",
      " [ 6.69879618e-18 -5.29262331e-17  7.07614191e-17  2.23290994e-02]]\n"
     ]
    }
   ],
   "source": [
    "# 构造约化密度矩阵\n",
    "psi0 = psi0.reshape([sys_block_2site.basis_size ,-1], order = \"C\")\n",
    "print(\"psi0:\\n\", psi0)\n",
    "rho = np.dot(psi0, psi0.conjugate().transpose())\n",
    "print(\"rho:\\n\", rho)"
   ]
  },
  {
   "cell_type": "code",
   "execution_count": 28,
   "metadata": {},
   "outputs": [
    {
     "name": "stdout",
     "output_type": "stream",
     "text": [
      "[(0.022329099369260197, array([ 0.04790748,  0.38649426,  0.38649426, -0.83603184])), (0.02232909936926026, array([0.04351838, 0.59047373, 0.59047373, 0.54844116])), (0.02232909936926044, array([-0.99790331,  0.04430532,  0.04430532, -0.01621891])), (0.9330127018922189, array([ 3.32583400e-17, -7.07106781e-01,  7.07106781e-01,  9.71445147e-17]))]\n",
      "[(0.9330127018922189, array([ 3.32583400e-17, -7.07106781e-01,  7.07106781e-01,  9.71445147e-17])), (0.02232909936926044, array([-0.99790331,  0.04430532,  0.04430532, -0.01621891])), (0.02232909936926026, array([0.04351838, 0.59047373, 0.59047373, 0.54844116])), (0.022329099369260197, array([ 0.04790748,  0.38649426,  0.38649426, -0.83603184]))]\n"
     ]
    }
   ],
   "source": [
    "# 对约化密度矩阵进行对角化处理\n",
    "# Diagonalize the reduced density matrix and sort the eigenvector by eigenvalue\n",
    "evals, evecs = np.linalg.eigh(rho)\n",
    "possible_eigenstates = []\n",
    "for eval, evec in zip(evals, evecs.transpose()):\n",
    "    possible_eigenstates.append((eval, evec))\n",
    "print(possible_eigenstates)\n",
    "possible_eigenstates.sort(reverse=True, key=lambda x: x[0]) # largest eigenvalue first\n",
    "print(possible_eigenstates)"
   ]
  },
  {
   "cell_type": "code",
   "execution_count": 29,
   "metadata": {},
   "outputs": [
    {
     "name": "stdout",
     "output_type": "stream",
     "text": [
      "truncation error: 2.220446049250313e-16\n"
     ]
    }
   ],
   "source": [
    "# 得到 transformation_matrix\n",
    "m = 10 # 截断维数\n",
    "my_m = min(len(possible_eigenstates), m)\n",
    "transformation_matrix = np.zeros((sys_block_2site.basis_size, my_m), dtype=\"d\", order=\"F\")\n",
    "for i, (eval, evec) in enumerate(possible_eigenstates[:my_m]):\n",
    "    transformation_matrix[:,i] = evec\n",
    "truncation_error = 1 - sum(x[0] for x in possible_eigenstates[:my_m])\n",
    "print(\"truncation error:\", truncation_error)\n"
   ]
  },
  {
   "cell_type": "code",
   "execution_count": 33,
   "metadata": {},
   "outputs": [
    {
     "name": "stdout",
     "output_type": "stream",
     "text": [
      "{'H': <4x4 sparse matrix of type '<class 'numpy.float64'>'\n",
      "\twith 6 stored elements in Compressed Sparse Row format>, 'conn_Sz': <4x4 sparse matrix of type '<class 'numpy.float64'>'\n",
      "\twith 8 stored elements (blocksize = 2x2) in Block Sparse Row format>, 'conn_Sp': <4x4 sparse matrix of type '<class 'numpy.float64'>'\n",
      "\twith 2 stored elements in COOrdinate format>}\n"
     ]
    }
   ],
   "source": [
    "# 对哈密顿矩阵进行重整化\n",
    "# Rotate and truncate each operator\n",
    "print(sys_block_op)\n",
    "H = sys_block_op[\"H\"]\n",
    "conn_Sz = sys_block_op[\"conn_Sz\"]\n",
    "conn_Sp = sys_block_op[\"conn_Sp\"]\n",
    "#\n",
    "new_H = transformation_matrix.conjugate().transpose().dot(H.dot(transformation_matrix))\n",
    "new_conn_Sz = transformation_matrix.conjugate().transpose().dot(conn_Sz.dot(transformation_matrix))\n",
    "new_conn_Sp = transformation_matrix.conjugate().transpose().dot(conn_Sp.dot(transformation_matrix))\n",
    "#\n",
    "new_operator_dict = {}\n",
    "new_operator_dict[\"H\"] = new_H\n",
    "new_operator_dict[\"conn_Sz\"] = conn_Sz\n",
    "new_operator_dict[\"conn_Sp\"] = conn_Sp \n",
    "#\n",
    "newblock = Block(length = sys_block_2site.length,\n",
    "                basis_size = my_m,\n",
    "                operator_dict = new_operator_dict\n",
    "                )"
   ]
  }
 ],
 "metadata": {
  "kernelspec": {
   "display_name": "Python 3",
   "language": "python",
   "name": "python3"
  },
  "language_info": {
   "codemirror_mode": {
    "name": "ipython",
    "version": 3
   },
   "file_extension": ".py",
   "mimetype": "text/x-python",
   "name": "python",
   "nbconvert_exporter": "python",
   "pygments_lexer": "ipython3",
   "version": "3.11.4"
  },
  "orig_nbformat": 4
 },
 "nbformat": 4,
 "nbformat_minor": 2
}

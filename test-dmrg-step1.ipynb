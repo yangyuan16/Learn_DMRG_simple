{
 "cells": [
  {
   "cell_type": "code",
   "execution_count": null,
   "metadata": {},
   "outputs": [],
   "source": [
    "# 从系统block 一个格点扩展成为两个格点\n",
    "# 系统块 和环境块 构造超块\n",
    "# 对超块进行对角化\n",
    "# 得到约化密度矩阵 "
   ]
  },
  {
   "cell_type": "code",
   "execution_count": null,
   "metadata": {},
   "outputs": [],
   "source": [
    "# from one site enlarge to two site, 系统从一个各点扩充到两个各点。\n",
    "import numpy as np\n",
    "from scipy.sparse import kron, identity\n",
    "from collections import namedtuple\n",
    "def H2(Sz1, Sp1, Sz2, Sp2):  # two-site part of H\n",
    "    \"\"\"Given the operators S^z and S^+ on two sites in different Hilbert spaces\n",
    "    (e.g. two blocks), returns a Kronecker product representing the\n",
    "    corresponding two-site term in the Hamiltonian that joins the two sites.\n",
    "    \"\"\"\n",
    "    J = Jz = 1.\n",
    "    return (\n",
    "        (J / 2) * (kron(Sp1, Sp2.conjugate().transpose()) + kron(Sp1.conjugate().transpose(), Sp2)) +\n",
    "        Jz * kron(Sz1, Sz2)\n",
    "    )\n",
    "if __name__ == \"__main__\":\n",
    "    # Model-specific code for the Heisenberg XXZ chain\n",
    "    model_d = 2  # single-site basis size\n",
    "    Sz1 = np.array([[0.5, 0], [0, -0.5]], dtype='d')  # single-site S^z\n",
    "    Sp1 = np.array([[0, 1], [0, 0]], dtype='d')  # single-site S^+\n",
    "    H1 = np.array([[0, 0], [0, 0]], dtype='d')  # single-site portion of H is zero, 磁场项 或者势能项\n",
    "    Block = namedtuple(\"Block\", [\"length\", \"basis_size\", \"operator_dict\"])\n",
    "    EnlargedBlock = namedtuple(\"EnlargedBlock\", [\"length\", \"basis_size\", \"operator_dict\"])\n",
    "    #初始化一个block\n",
    "    initial_block = Block(length=1, \n",
    "                        basis_size=model_d, \n",
    "                        operator_dict={\n",
    "                        \"H\": H1,\n",
    "                        \"conn_Sz\": Sz1,\n",
    "                        \"conn_Sp\": Sp1,})\n",
    "    block = initial_block\n",
    "    # enlarges the provided Block by a single site, return an EnlargedBlock\n",
    "    mblock = block.basis_size\n",
    "    o = block.operator_dict\n",
    "\n",
    "    H = kron(o[\"H\"], identity(model_d)) + kron(identity(mblock),H1) + \\\n",
    "        H2(o[\"conn_Sz\"], o[\"conn_Sp\"], Sz1, Sp1) # hamiltonian of block\n",
    "    conn_Sz = kron(identity(mblock), Sz1) # edge site is enlarged\n",
    "    conn_Sp = kron(identity(mblock), Sp1) # edge site is enlarged\n",
    "\n",
    "    enlarged_operator_dict = {\"H\": H, \"conn_Sz\": conn_Sz, \"conn_Sp\": conn_Sp}\n",
    "    EnlargedBlock(length=(block.length + 1),\n",
    "                basis_size=(block.basis_size * model_d),\n",
    "                operator_dict=enlarged_operator_dict) # 存入 EnlareBlock 中。\n",
    "    print(\"block hamiltonian H:\\n\", H)\n",
    "    print(\"edge site operator conn_Sz:\\n\", conn_Sz)\n",
    "    print(\"edge site operator conn_Sp:\\n\", conn_Sp)"
   ]
  },
  {
   "cell_type": "code",
   "execution_count": null,
   "metadata": {},
   "outputs": [],
   "source": [
    "sys_block_2site = EnlargedBlock # 2 格点系统块\n",
    "env_block_2site = sys_block_2site # 将系统块变为环境块\n",
    "# 构造超块哈密顿\n",
    "m_sys_block = sys_block_2site.basis_size\n",
    "m_env_block = env_block_2site.basis_size\n",
    "sys_block_op = sys_block_2site.operator_dict\n",
    "env_block_op = env_block_2site.operator_dict\n",
    "superblock_hamiltonian = kron()"
   ]
  }
 ],
 "metadata": {
  "language_info": {
   "name": "python"
  },
  "orig_nbformat": 4
 },
 "nbformat": 4,
 "nbformat_minor": 2
}
